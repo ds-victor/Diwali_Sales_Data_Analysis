{
 "cells": [
  {
   "cell_type": "markdown",
   "id": "db2f4886",
   "metadata": {},
   "source": [
    "# Data Analysis Project Life Cycle\n",
    "- **Problem Understanding**\n",
    "- **Data Collection**\n",
    "- **Data Pre-processing**\n",
    "- **Exploratory Data Analysis**\n",
    "- **Reporting**"
   ]
  },
  {
   "cell_type": "markdown",
   "id": "441fbc1d",
   "metadata": {},
   "source": [
    "## Business Problem:\n",
    "**Client Wants to analyze their Diwali sales data to understand the trend, to understand the highest and lowest performing categories and prepare accordingly to improve sales in future**"
   ]
  },
  {
   "cell_type": "markdown",
   "id": "cb5f861c",
   "metadata": {},
   "source": [
    "## Data Collection:\n",
    "- Data is provided by the client as a csv file\n",
    "- Link: https://drive.google.com/file/d/1BPotfWkpOV5kr72UPZpsCcf3w_bxyaCN/view?usp=sharing\n"
   ]
  },
  {
   "cell_type": "code",
   "execution_count": 60,
   "id": "b2a9d30f",
   "metadata": {},
   "outputs": [],
   "source": [
    "# Importing the necessary libraries\n",
    "import warnings\n",
    "warnings.filterwarnings('ignore')\n",
    "\n",
    "import pandas as pd\n",
    "import numpy as np\n",
    "import matplotlib.pyplot as plt\n",
    "import seaborn as sns"
   ]
  },
  {
   "cell_type": "code",
   "execution_count": 14,
   "id": "980f4ad0",
   "metadata": {},
   "outputs": [],
   "source": [
    "# Loading the data set\n",
    "data = pd.read_csv(r\"B:\\Summer_Training_2024\\Diwali_Sales_Analysis\\Diwali_Sales_Data.csv\", encoding = 'unicode_escape')\n",
    "# To avoid unicide error, 'unicode_escape' is used"
   ]
  },
  {
   "cell_type": "code",
   "execution_count": 15,
   "id": "7809cc80",
   "metadata": {},
   "outputs": [
    {
     "data": {
      "text/html": [
       "<div>\n",
       "<style scoped>\n",
       "    .dataframe tbody tr th:only-of-type {\n",
       "        vertical-align: middle;\n",
       "    }\n",
       "\n",
       "    .dataframe tbody tr th {\n",
       "        vertical-align: top;\n",
       "    }\n",
       "\n",
       "    .dataframe thead th {\n",
       "        text-align: right;\n",
       "    }\n",
       "</style>\n",
       "<table border=\"1\" class=\"dataframe\">\n",
       "  <thead>\n",
       "    <tr style=\"text-align: right;\">\n",
       "      <th></th>\n",
       "      <th>User_ID</th>\n",
       "      <th>Cust_name</th>\n",
       "      <th>Product_ID</th>\n",
       "      <th>Gender</th>\n",
       "      <th>Age Group</th>\n",
       "      <th>Age</th>\n",
       "      <th>Marital_Status</th>\n",
       "      <th>State</th>\n",
       "      <th>Zone</th>\n",
       "      <th>Occupation</th>\n",
       "      <th>Product_Category</th>\n",
       "      <th>Orders</th>\n",
       "      <th>Amount</th>\n",
       "      <th>Status</th>\n",
       "      <th>unnamed1</th>\n",
       "    </tr>\n",
       "  </thead>\n",
       "  <tbody>\n",
       "    <tr>\n",
       "      <th>0</th>\n",
       "      <td>1002903.0</td>\n",
       "      <td>Sanskriti</td>\n",
       "      <td>P00125942</td>\n",
       "      <td>F</td>\n",
       "      <td>26-35</td>\n",
       "      <td>28</td>\n",
       "      <td>0.0</td>\n",
       "      <td>Maharashtra</td>\n",
       "      <td>Western</td>\n",
       "      <td>Healthcare</td>\n",
       "      <td>Auto</td>\n",
       "      <td>1.0</td>\n",
       "      <td>23952</td>\n",
       "      <td>NaN</td>\n",
       "      <td>NaN</td>\n",
       "    </tr>\n",
       "    <tr>\n",
       "      <th>1</th>\n",
       "      <td>1000732.0</td>\n",
       "      <td>Kartik</td>\n",
       "      <td>P00110942</td>\n",
       "      <td>F</td>\n",
       "      <td>26-35</td>\n",
       "      <td>35</td>\n",
       "      <td>1.0</td>\n",
       "      <td>Andhra Pradesh</td>\n",
       "      <td>Southern</td>\n",
       "      <td>Govt</td>\n",
       "      <td>Auto</td>\n",
       "      <td>3.0</td>\n",
       "      <td>23934</td>\n",
       "      <td>NaN</td>\n",
       "      <td>NaN</td>\n",
       "    </tr>\n",
       "    <tr>\n",
       "      <th>2</th>\n",
       "      <td>1001990.0</td>\n",
       "      <td>Bindu</td>\n",
       "      <td>P00118542</td>\n",
       "      <td>F</td>\n",
       "      <td>26-35</td>\n",
       "      <td>35</td>\n",
       "      <td>1.0</td>\n",
       "      <td>Uttar Pradesh</td>\n",
       "      <td>Central</td>\n",
       "      <td>Automobile</td>\n",
       "      <td>Auto</td>\n",
       "      <td>3.0</td>\n",
       "      <td>23924</td>\n",
       "      <td>NaN</td>\n",
       "      <td>NaN</td>\n",
       "    </tr>\n",
       "    <tr>\n",
       "      <th>3</th>\n",
       "      <td>1001425.0</td>\n",
       "      <td>Sudevi</td>\n",
       "      <td>P00237842</td>\n",
       "      <td>M</td>\n",
       "      <td>0-17</td>\n",
       "      <td>16</td>\n",
       "      <td>0.0</td>\n",
       "      <td>Karnataka</td>\n",
       "      <td>Southern</td>\n",
       "      <td>Construction</td>\n",
       "      <td>Auto</td>\n",
       "      <td>2.0</td>\n",
       "      <td>23912</td>\n",
       "      <td>NaN</td>\n",
       "      <td>NaN</td>\n",
       "    </tr>\n",
       "    <tr>\n",
       "      <th>4</th>\n",
       "      <td>1000588.0</td>\n",
       "      <td>Joni</td>\n",
       "      <td>P00057942</td>\n",
       "      <td>M</td>\n",
       "      <td>26-35</td>\n",
       "      <td>28</td>\n",
       "      <td>1.0</td>\n",
       "      <td>Gujarat</td>\n",
       "      <td>Western</td>\n",
       "      <td>Food Processing</td>\n",
       "      <td>Auto</td>\n",
       "      <td>2.0</td>\n",
       "      <td>23877</td>\n",
       "      <td>NaN</td>\n",
       "      <td>NaN</td>\n",
       "    </tr>\n",
       "  </tbody>\n",
       "</table>\n",
       "</div>"
      ],
      "text/plain": [
       "     User_ID  Cust_name Product_ID Gender Age Group Age  Marital_Status  \\\n",
       "0  1002903.0  Sanskriti  P00125942      F     26-35  28             0.0   \n",
       "1  1000732.0     Kartik  P00110942      F     26-35  35             1.0   \n",
       "2  1001990.0      Bindu  P00118542      F     26-35  35             1.0   \n",
       "3  1001425.0     Sudevi  P00237842      M      0-17  16             0.0   \n",
       "4  1000588.0       Joni  P00057942      M     26-35  28             1.0   \n",
       "\n",
       "            State      Zone       Occupation Product_Category  Orders Amount  \\\n",
       "0     Maharashtra   Western       Healthcare             Auto     1.0  23952   \n",
       "1  Andhra Pradesh  Southern             Govt             Auto     3.0  23934   \n",
       "2   Uttar Pradesh   Central       Automobile             Auto     3.0  23924   \n",
       "3       Karnataka  Southern     Construction             Auto     2.0  23912   \n",
       "4         Gujarat   Western  Food Processing             Auto     2.0  23877   \n",
       "\n",
       "   Status  unnamed1  \n",
       "0     NaN       NaN  \n",
       "1     NaN       NaN  \n",
       "2     NaN       NaN  \n",
       "3     NaN       NaN  \n",
       "4     NaN       NaN  "
      ]
     },
     "execution_count": 15,
     "metadata": {},
     "output_type": "execute_result"
    }
   ],
   "source": [
    "# Checking the data\n",
    "data.head()"
   ]
  },
  {
   "cell_type": "code",
   "execution_count": 67,
   "id": "539ad8a3",
   "metadata": {},
   "outputs": [],
   "source": [
    "# Creating a copy of the dataset\n",
    "df = data.copy()"
   ]
  },
  {
   "cell_type": "markdown",
   "id": "09665fd7",
   "metadata": {},
   "source": [
    " "
   ]
  },
  {
   "cell_type": "markdown",
   "id": "7fdbef58",
   "metadata": {},
   "source": [
    "## Data Preparation\n",
    "- **Data Profiling**\n",
    "- **Data Cleaning**\n",
    "- **Data Consistancy**\n",
    "- **Data formatting**\n",
    "- **Outlier Detection**"
   ]
  },
  {
   "cell_type": "markdown",
   "id": "f532a0f1",
   "metadata": {},
   "source": [
    "### Data Profiling"
   ]
  },
  {
   "cell_type": "code",
   "execution_count": 68,
   "id": "a4aab6a9",
   "metadata": {},
   "outputs": [
    {
     "data": {
      "text/plain": [
       "(11345, 15)"
      ]
     },
     "execution_count": 68,
     "metadata": {},
     "output_type": "execute_result"
    }
   ],
   "source": [
    "# Data shape\n",
    "df.shape"
   ]
  },
  {
   "cell_type": "code",
   "execution_count": 69,
   "id": "c353b6a9",
   "metadata": {},
   "outputs": [
    {
     "name": "stdout",
     "output_type": "stream",
     "text": [
      "<class 'pandas.core.frame.DataFrame'>\n",
      "RangeIndex: 11345 entries, 0 to 11344\n",
      "Data columns (total 15 columns):\n",
      " #   Column            Non-Null Count  Dtype  \n",
      "---  ------            --------------  -----  \n",
      " 0   User_ID           11321 non-null  float64\n",
      " 1   Cust_name         11344 non-null  object \n",
      " 2   Product_ID        11341 non-null  object \n",
      " 3   Gender            11341 non-null  object \n",
      " 4   Age Group         11339 non-null  object \n",
      " 5   Age               11334 non-null  object \n",
      " 6   Marital_Status    11339 non-null  float64\n",
      " 7   State             11332 non-null  object \n",
      " 8   Zone              11334 non-null  object \n",
      " 9   Occupation        11339 non-null  object \n",
      " 10  Product_Category  11334 non-null  object \n",
      " 11  Orders            11342 non-null  float64\n",
      " 12  Amount            11331 non-null  object \n",
      " 13  Status            0 non-null      float64\n",
      " 14  unnamed1          0 non-null      float64\n",
      "dtypes: float64(5), object(10)\n",
      "memory usage: 1.3+ MB\n"
     ]
    }
   ],
   "source": [
    "# Feature details\n",
    "df.info()"
   ]
  },
  {
   "cell_type": "code",
   "execution_count": 70,
   "id": "a05b3a20",
   "metadata": {},
   "outputs": [
    {
     "data": {
      "text/plain": [
       "Index(['User_ID', 'Cust_name', 'Product_ID', 'Gender', 'Age Group', 'Age',\n",
       "       'Marital_Status', 'State', 'Zone', 'Occupation', 'Product_Category',\n",
       "       'Orders', 'Amount', 'Status', 'unnamed1'],\n",
       "      dtype='object')"
      ]
     },
     "execution_count": 70,
     "metadata": {},
     "output_type": "execute_result"
    }
   ],
   "source": [
    "# All columns\n",
    "all_columns = df.columns\n",
    "all_columns"
   ]
  },
  {
   "cell_type": "code",
   "execution_count": 71,
   "id": "4c99f91a",
   "metadata": {},
   "outputs": [
    {
     "data": {
      "text/plain": [
       "Index(['User_ID', 'Marital_Status', 'Orders', 'Status', 'unnamed1'], dtype='object')"
      ]
     },
     "execution_count": 71,
     "metadata": {},
     "output_type": "execute_result"
    }
   ],
   "source": [
    "# Numeric columns\n",
    "numeric_columns = df.select_dtypes(include = np.number).columns\n",
    "numeric_columns"
   ]
  },
  {
   "cell_type": "code",
   "execution_count": 72,
   "id": "6d39b217",
   "metadata": {},
   "outputs": [
    {
     "data": {
      "text/plain": [
       "Index(['Cust_name', 'Product_ID', 'Gender', 'Age Group', 'Age', 'State',\n",
       "       'Zone', 'Occupation', 'Product_Category', 'Amount'],\n",
       "      dtype='object')"
      ]
     },
     "execution_count": 72,
     "metadata": {},
     "output_type": "execute_result"
    }
   ],
   "source": [
    "# Non Numeric columns\n",
    "non_numeric_columns = df.select_dtypes(include = object).columns\n",
    "non_numeric_columns"
   ]
  },
  {
   "cell_type": "code",
   "execution_count": 73,
   "id": "d99674a9",
   "metadata": {},
   "outputs": [
    {
     "name": "stdout",
     "output_type": "stream",
     "text": [
      "The size of duplicate data is: \n",
      " (40, 15)\n",
      "The duplicate dataset:\n"
     ]
    },
    {
     "data": {
      "text/html": [
       "<div>\n",
       "<style scoped>\n",
       "    .dataframe tbody tr th:only-of-type {\n",
       "        vertical-align: middle;\n",
       "    }\n",
       "\n",
       "    .dataframe tbody tr th {\n",
       "        vertical-align: top;\n",
       "    }\n",
       "\n",
       "    .dataframe thead th {\n",
       "        text-align: right;\n",
       "    }\n",
       "</style>\n",
       "<table border=\"1\" class=\"dataframe\">\n",
       "  <thead>\n",
       "    <tr style=\"text-align: right;\">\n",
       "      <th></th>\n",
       "      <th>User_ID</th>\n",
       "      <th>Cust_name</th>\n",
       "      <th>Product_ID</th>\n",
       "      <th>Gender</th>\n",
       "      <th>Age Group</th>\n",
       "      <th>Age</th>\n",
       "      <th>Marital_Status</th>\n",
       "      <th>State</th>\n",
       "      <th>Zone</th>\n",
       "      <th>Occupation</th>\n",
       "      <th>Product_Category</th>\n",
       "      <th>Orders</th>\n",
       "      <th>Amount</th>\n",
       "      <th>Status</th>\n",
       "      <th>unnamed1</th>\n",
       "    </tr>\n",
       "  </thead>\n",
       "  <tbody>\n",
       "    <tr>\n",
       "      <th>4404</th>\n",
       "      <td>1004725.0</td>\n",
       "      <td>Jackson</td>\n",
       "      <td>P00150842</td>\n",
       "      <td>F</td>\n",
       "      <td>36-45</td>\n",
       "      <td>37</td>\n",
       "      <td>1.0</td>\n",
       "      <td>Maharashtra</td>\n",
       "      <td>Western</td>\n",
       "      <td>Hospitality</td>\n",
       "      <td>Electronics &amp; Gadgets</td>\n",
       "      <td>4.0</td>\n",
       "      <td>9859</td>\n",
       "      <td>NaN</td>\n",
       "      <td>NaN</td>\n",
       "    </tr>\n",
       "    <tr>\n",
       "      <th>5703</th>\n",
       "      <td>1003208.0</td>\n",
       "      <td>Bowman</td>\n",
       "      <td>P00171642</td>\n",
       "      <td>F</td>\n",
       "      <td>26-35</td>\n",
       "      <td>31</td>\n",
       "      <td>0.0</td>\n",
       "      <td>Bihar</td>\n",
       "      <td>Eastern</td>\n",
       "      <td>Agriculture</td>\n",
       "      <td>Electronics &amp; Gadgets</td>\n",
       "      <td>4.0</td>\n",
       "      <td>8088</td>\n",
       "      <td>NaN</td>\n",
       "      <td>NaN</td>\n",
       "    </tr>\n",
       "    <tr>\n",
       "      <th>5908</th>\n",
       "      <td>1001260.0</td>\n",
       "      <td>Dheeraj</td>\n",
       "      <td>P00344042</td>\n",
       "      <td>M</td>\n",
       "      <td>26-35</td>\n",
       "      <td>28</td>\n",
       "      <td>0.0</td>\n",
       "      <td>Maharashtra</td>\n",
       "      <td>Western</td>\n",
       "      <td>IT Sector</td>\n",
       "      <td>Electronics &amp; Gadgets</td>\n",
       "      <td>4.0</td>\n",
       "      <td>8015</td>\n",
       "      <td>NaN</td>\n",
       "      <td>NaN</td>\n",
       "    </tr>\n",
       "    <tr>\n",
       "      <th>6173</th>\n",
       "      <td>1001325.0</td>\n",
       "      <td>Reese</td>\n",
       "      <td>P00111742</td>\n",
       "      <td>F</td>\n",
       "      <td>26-35</td>\n",
       "      <td>27</td>\n",
       "      <td>1.0</td>\n",
       "      <td>Gujarat</td>\n",
       "      <td>Western</td>\n",
       "      <td>Construction</td>\n",
       "      <td>Electronics &amp; Gadgets</td>\n",
       "      <td>3.0</td>\n",
       "      <td>7923</td>\n",
       "      <td>NaN</td>\n",
       "      <td>NaN</td>\n",
       "    </tr>\n",
       "    <tr>\n",
       "      <th>8651</th>\n",
       "      <td>1000083.0</td>\n",
       "      <td>Gute</td>\n",
       "      <td>P00242842</td>\n",
       "      <td>M</td>\n",
       "      <td>26-35</td>\n",
       "      <td>35</td>\n",
       "      <td>0.0</td>\n",
       "      <td>Uttar Pradesh</td>\n",
       "      <td>Central</td>\n",
       "      <td>Hospitality</td>\n",
       "      <td>Clothing &amp; Apparel</td>\n",
       "      <td>3.0</td>\n",
       "      <td>5345</td>\n",
       "      <td>NaN</td>\n",
       "      <td>NaN</td>\n",
       "    </tr>\n",
       "  </tbody>\n",
       "</table>\n",
       "</div>"
      ],
      "text/plain": [
       "        User_ID Cust_name Product_ID Gender Age Group Age  Marital_Status  \\\n",
       "4404  1004725.0   Jackson  P00150842      F     36-45  37             1.0   \n",
       "5703  1003208.0    Bowman  P00171642      F     26-35  31             0.0   \n",
       "5908  1001260.0   Dheeraj  P00344042      M     26-35  28             0.0   \n",
       "6173  1001325.0     Reese  P00111742      F     26-35  27             1.0   \n",
       "8651  1000083.0      Gute  P00242842      M     26-35  35             0.0   \n",
       "\n",
       "              State     Zone    Occupation       Product_Category  Orders  \\\n",
       "4404    Maharashtra  Western   Hospitality  Electronics & Gadgets     4.0   \n",
       "5703          Bihar  Eastern   Agriculture  Electronics & Gadgets     4.0   \n",
       "5908    Maharashtra  Western     IT Sector  Electronics & Gadgets     4.0   \n",
       "6173        Gujarat  Western  Construction  Electronics & Gadgets     3.0   \n",
       "8651  Uttar Pradesh  Central   Hospitality     Clothing & Apparel     3.0   \n",
       "\n",
       "     Amount  Status  unnamed1  \n",
       "4404   9859     NaN       NaN  \n",
       "5703   8088     NaN       NaN  \n",
       "5908   8015     NaN       NaN  \n",
       "6173   7923     NaN       NaN  \n",
       "8651   5345     NaN       NaN  "
      ]
     },
     "execution_count": 73,
     "metadata": {},
     "output_type": "execute_result"
    }
   ],
   "source": [
    "# Checking for duplicate entries\n",
    "df_duplicate = df[df.duplicated()]\n",
    "print(\"The size of duplicate data is: \\n\", df_duplicate.shape)\n",
    "print(\"The duplicate dataset:\")\n",
    "df_duplicate.head()"
   ]
  },
  {
   "cell_type": "code",
   "execution_count": 74,
   "id": "d3471d52",
   "metadata": {},
   "outputs": [
    {
     "name": "stdout",
     "output_type": "stream",
     "text": [
      "The shape of non-duplicate dataset is: \n",
      " (11305, 15)\n"
     ]
    },
    {
     "data": {
      "text/html": [
       "<div>\n",
       "<style scoped>\n",
       "    .dataframe tbody tr th:only-of-type {\n",
       "        vertical-align: middle;\n",
       "    }\n",
       "\n",
       "    .dataframe tbody tr th {\n",
       "        vertical-align: top;\n",
       "    }\n",
       "\n",
       "    .dataframe thead th {\n",
       "        text-align: right;\n",
       "    }\n",
       "</style>\n",
       "<table border=\"1\" class=\"dataframe\">\n",
       "  <thead>\n",
       "    <tr style=\"text-align: right;\">\n",
       "      <th></th>\n",
       "      <th>User_ID</th>\n",
       "      <th>Cust_name</th>\n",
       "      <th>Product_ID</th>\n",
       "      <th>Gender</th>\n",
       "      <th>Age Group</th>\n",
       "      <th>Age</th>\n",
       "      <th>Marital_Status</th>\n",
       "      <th>State</th>\n",
       "      <th>Zone</th>\n",
       "      <th>Occupation</th>\n",
       "      <th>Product_Category</th>\n",
       "      <th>Orders</th>\n",
       "      <th>Amount</th>\n",
       "      <th>Status</th>\n",
       "      <th>unnamed1</th>\n",
       "    </tr>\n",
       "  </thead>\n",
       "  <tbody>\n",
       "  </tbody>\n",
       "</table>\n",
       "</div>"
      ],
      "text/plain": [
       "Empty DataFrame\n",
       "Columns: [User_ID, Cust_name, Product_ID, Gender, Age Group, Age, Marital_Status, State, Zone, Occupation, Product_Category, Orders, Amount, Status, unnamed1]\n",
       "Index: []"
      ]
     },
     "execution_count": 74,
     "metadata": {},
     "output_type": "execute_result"
    }
   ],
   "source": [
    "# Filtering out the duplicate entries\n",
    "df = df[~df.duplicated()]\n",
    "print(\"The shape of non-duplicate dataset is: \\n\", df.shape)\n",
    "\n",
    "# Check for duplicate, if still exists\n",
    "df[df.duplicated()]"
   ]
  },
  {
   "cell_type": "code",
   "execution_count": 81,
   "id": "608883b4",
   "metadata": {},
   "outputs": [
    {
     "data": {
      "text/html": [
       "<div>\n",
       "<style scoped>\n",
       "    .dataframe tbody tr th:only-of-type {\n",
       "        vertical-align: middle;\n",
       "    }\n",
       "\n",
       "    .dataframe tbody tr th {\n",
       "        vertical-align: top;\n",
       "    }\n",
       "\n",
       "    .dataframe thead th {\n",
       "        text-align: right;\n",
       "    }\n",
       "</style>\n",
       "<table border=\"1\" class=\"dataframe\">\n",
       "  <thead>\n",
       "    <tr style=\"text-align: right;\">\n",
       "      <th></th>\n",
       "      <th>null_value</th>\n",
       "      <th>percentage</th>\n",
       "    </tr>\n",
       "  </thead>\n",
       "  <tbody>\n",
       "    <tr>\n",
       "      <th>User_ID</th>\n",
       "      <td>24</td>\n",
       "      <td>0.212295</td>\n",
       "    </tr>\n",
       "    <tr>\n",
       "      <th>Cust_name</th>\n",
       "      <td>1</td>\n",
       "      <td>0.008846</td>\n",
       "    </tr>\n",
       "    <tr>\n",
       "      <th>Product_ID</th>\n",
       "      <td>4</td>\n",
       "      <td>0.035383</td>\n",
       "    </tr>\n",
       "    <tr>\n",
       "      <th>Gender</th>\n",
       "      <td>4</td>\n",
       "      <td>0.035383</td>\n",
       "    </tr>\n",
       "    <tr>\n",
       "      <th>Age Group</th>\n",
       "      <td>6</td>\n",
       "      <td>0.053074</td>\n",
       "    </tr>\n",
       "    <tr>\n",
       "      <th>Age</th>\n",
       "      <td>11</td>\n",
       "      <td>0.097302</td>\n",
       "    </tr>\n",
       "    <tr>\n",
       "      <th>Marital_Status</th>\n",
       "      <td>6</td>\n",
       "      <td>0.053074</td>\n",
       "    </tr>\n",
       "    <tr>\n",
       "      <th>State</th>\n",
       "      <td>13</td>\n",
       "      <td>0.114993</td>\n",
       "    </tr>\n",
       "    <tr>\n",
       "      <th>Zone</th>\n",
       "      <td>11</td>\n",
       "      <td>0.097302</td>\n",
       "    </tr>\n",
       "    <tr>\n",
       "      <th>Occupation</th>\n",
       "      <td>6</td>\n",
       "      <td>0.053074</td>\n",
       "    </tr>\n",
       "    <tr>\n",
       "      <th>Product_Category</th>\n",
       "      <td>11</td>\n",
       "      <td>0.097302</td>\n",
       "    </tr>\n",
       "    <tr>\n",
       "      <th>Orders</th>\n",
       "      <td>3</td>\n",
       "      <td>0.026537</td>\n",
       "    </tr>\n",
       "    <tr>\n",
       "      <th>Amount</th>\n",
       "      <td>14</td>\n",
       "      <td>0.123839</td>\n",
       "    </tr>\n",
       "    <tr>\n",
       "      <th>Status</th>\n",
       "      <td>11305</td>\n",
       "      <td>100.000000</td>\n",
       "    </tr>\n",
       "    <tr>\n",
       "      <th>unnamed1</th>\n",
       "      <td>11305</td>\n",
       "      <td>100.000000</td>\n",
       "    </tr>\n",
       "  </tbody>\n",
       "</table>\n",
       "</div>"
      ],
      "text/plain": [
       "                  null_value  percentage\n",
       "User_ID                   24    0.212295\n",
       "Cust_name                  1    0.008846\n",
       "Product_ID                 4    0.035383\n",
       "Gender                     4    0.035383\n",
       "Age Group                  6    0.053074\n",
       "Age                       11    0.097302\n",
       "Marital_Status             6    0.053074\n",
       "State                     13    0.114993\n",
       "Zone                      11    0.097302\n",
       "Occupation                 6    0.053074\n",
       "Product_Category          11    0.097302\n",
       "Orders                     3    0.026537\n",
       "Amount                    14    0.123839\n",
       "Status                 11305  100.000000\n",
       "unnamed1               11305  100.000000"
      ]
     },
     "execution_count": 81,
     "metadata": {},
     "output_type": "execute_result"
    }
   ],
   "source": [
    "# Checking for null values\n",
    "df_null = df.isna().sum()\n",
    "\n",
    "# Null values as percentage\n",
    "df_null_percen = (df.isna().sum()/(df.shape[0]))*100\n",
    "\n",
    "null_values = pd.DataFrame({'null_value': df_null, 'percentage': df_null_percen})\n",
    "null_values"
   ]
  },
  {
   "cell_type": "code",
   "execution_count": 82,
   "id": "0863dd1b",
   "metadata": {},
   "outputs": [
    {
     "data": {
      "text/plain": [
       "User_ID             11281\n",
       "Cust_name           11304\n",
       "Product_ID          11301\n",
       "Gender              11301\n",
       "Age Group           11299\n",
       "Age                 11294\n",
       "Marital_Status      11299\n",
       "State               11292\n",
       "Zone                11294\n",
       "Occupation          11299\n",
       "Product_Category    11294\n",
       "Orders              11302\n",
       "Amount              11291\n",
       "Status                  0\n",
       "unnamed1                0\n",
       "dtype: int64"
      ]
     },
     "execution_count": 82,
     "metadata": {},
     "output_type": "execute_result"
    }
   ],
   "source": [
    "# Checking for unique values of features\n",
    "df_unique = df.count()\n",
    "df_unique"
   ]
  },
  {
   "cell_type": "markdown",
   "id": "9458355c",
   "metadata": {},
   "source": [
    "### Column Manipulations to be done\n",
    "- ***Amount***\n",
    "    - It has non-numeric values, should be dropped\n",
    "    - It has null values, should be dropped\n",
    "    - Data type should be changed to number\n",
    "- ***Status***\n",
    "    - No data, should be dropped\n",
    "- ***unnamed1***\n",
    "    - No data, should be dropped\n",
    "- ***Orders***\n",
    "    - It has null values, should be dropped\n",
    "- ***State***\n",
    "    - It has some typing errors. 'Andhra\\xa0Pradesh' should be replaced with 'Andhra Pradesh'\n",
    "    - Rows corresponding to null values can be dropped\n",
    "- ***Zone***\n",
    "    - It has typing error. 'Zentral' should be replaced with 'Central'\n",
    "    - Rows corresponding to null values can be dropped\n",
    "- ***Product_ID***\n",
    "    - Rows corresponding to null values can be dropped\n",
    "\n",
    "- ***Marital_Status***\n",
    "    - '0' should be replaced with Unmarried and '1' should be replaced with Married\n",
    "    - Null values can be replaced with mode\n",
    "- ***Age***\n",
    "    - Data type should be changed to numeric\n",
    "    - Null values can be replaced with mode\n",
    "- ***Age Group***\n",
    "    - Null values can be replaced with mode\n",
    "    - There is inconsistant data. 'low-high' should be replaced with mode\n",
    "- ***Gender, Occupation, Product_Category***\n",
    "    - Null values can be replaced with mode\n",
    "\n",
    "\n"
   ]
  },
  {
   "cell_type": "markdown",
   "id": "de8ce984",
   "metadata": {},
   "source": [
    "### Data Cleaning"
   ]
  },
  {
   "cell_type": "markdown",
   "id": "a444663b",
   "metadata": {},
   "source": [
    "#### Status & unnamed1"
   ]
  },
  {
   "cell_type": "code",
   "execution_count": 83,
   "id": "e4926283",
   "metadata": {},
   "outputs": [],
   "source": [
    "# Dropping the columns: 'Status' & 'unnamed1'\n",
    "df.drop(columns = ['Status', 'unnamed1'], inplace = True)"
   ]
  },
  {
   "cell_type": "markdown",
   "id": "c050312c",
   "metadata": {},
   "source": [
    "#### Amount"
   ]
  },
  {
   "cell_type": "code",
   "execution_count": 84,
   "id": "1a3e8693",
   "metadata": {},
   "outputs": [],
   "source": [
    "# Changing the data type of 'Amount' to numeric\n",
    "df['Amount'] = pd.to_numeric(df['Amount'], errors = 'coerce') \n",
    "# errors = 'coerce' convert non-numeric values to NaN"
   ]
  },
  {
   "cell_type": "code",
   "execution_count": 85,
   "id": "43e0cef6",
   "metadata": {},
   "outputs": [],
   "source": [
    "# Dropping null values corresponding to columns = ['Amount', 'Orders', 'State', 'Zone', 'Product_ID']\n",
    "df.dropna(subset = ['Amount', 'Orders', 'State', 'Zone', 'Product_ID'], inplace = True)\n"
   ]
  },
  {
   "cell_type": "markdown",
   "id": "37fde929",
   "metadata": {},
   "source": [
    "#### State"
   ]
  },
  {
   "cell_type": "code",
   "execution_count": 86,
   "id": "bbfd769c",
   "metadata": {},
   "outputs": [
    {
     "data": {
      "text/plain": [
       "array(['Maharashtra', 'Andhra\\xa0Pradesh', 'Uttar Pradesh', 'Karnataka',\n",
       "       'Gujarat', 'Himachal Pradesh', 'Delhi', 'Jharkhand', 'Kerala',\n",
       "       'Nndhra\\xa0Pradesh', 'Madhya Pradesh', 'Bihar', 'Rajasthan',\n",
       "       'Haryana', 'Uttarakhand', 'Telangana', 'Punjab'], dtype=object)"
      ]
     },
     "execution_count": 86,
     "metadata": {},
     "output_type": "execute_result"
    }
   ],
   "source": [
    "df['State'].unique()"
   ]
  },
  {
   "cell_type": "code",
   "execution_count": 87,
   "id": "0b13ea6d",
   "metadata": {},
   "outputs": [
    {
     "data": {
      "text/plain": [
       "array(['Maharashtra', 'Andhra Pradesh', 'Uttar Pradesh', 'Karnataka',\n",
       "       'Gujarat', 'Himachal Pradesh', 'Delhi', 'Jharkhand', 'Kerala',\n",
       "       'Madhya Pradesh', 'Bihar', 'Rajasthan', 'Haryana', 'Uttarakhand',\n",
       "       'Telangana', 'Punjab'], dtype=object)"
      ]
     },
     "execution_count": 87,
     "metadata": {},
     "output_type": "execute_result"
    }
   ],
   "source": [
    "# Replacing 'Andhra\\xa0Pradesh' and 'Nndhra\\xa0Pradesh' with 'Andhra Pradesh'\n",
    "df['State'] = df['State'].str.replace('Andhra\\xa0Pradesh', 'Andhra Pradesh')\n",
    "df['State'] = df['State'].str.replace('Nndhra\\xa0Pradesh', 'Andhra Pradesh')\n",
    "df['State'].unique()"
   ]
  },
  {
   "cell_type": "markdown",
   "id": "e9ac79d7",
   "metadata": {},
   "source": [
    "#### Zone"
   ]
  },
  {
   "cell_type": "code",
   "execution_count": 89,
   "id": "06bfd95e",
   "metadata": {},
   "outputs": [
    {
     "data": {
      "text/plain": [
       "array(['Western', 'Southern', 'Central', 'Northern', 'Zentral', 'Eastern'],\n",
       "      dtype=object)"
      ]
     },
     "execution_count": 89,
     "metadata": {},
     "output_type": "execute_result"
    }
   ],
   "source": [
    "df.Zone.unique()"
   ]
  },
  {
   "cell_type": "code",
   "execution_count": 90,
   "id": "c8907cde",
   "metadata": {},
   "outputs": [
    {
     "data": {
      "text/plain": [
       "array(['Western', 'Southern', 'Central', 'Northern', 'Eastern'],\n",
       "      dtype=object)"
      ]
     },
     "execution_count": 90,
     "metadata": {},
     "output_type": "execute_result"
    }
   ],
   "source": [
    "# Replacing 'Zentral' with 'Central'\n",
    "df['Zone'] = df.Zone.replace('Zentral', 'Central')\n",
    "df.Zone.unique()"
   ]
  },
  {
   "cell_type": "markdown",
   "id": "8409acad",
   "metadata": {},
   "source": [
    "#### Marital_Status"
   ]
  },
  {
   "cell_type": "code",
   "execution_count": 91,
   "id": "6fa9c78a",
   "metadata": {},
   "outputs": [],
   "source": [
    "# Replacing the null values with mode\n",
    "marital_status_mode = df['Marital_Status'].mode()[0]\n",
    "df['Marital_Status'] = df['Marital_Status'].fillna(marital_status_mode)\n"
   ]
  },
  {
   "cell_type": "code",
   "execution_count": 92,
   "id": "ccefeb3f",
   "metadata": {},
   "outputs": [
    {
     "data": {
      "text/plain": [
       "array([0., 1.])"
      ]
     },
     "execution_count": 92,
     "metadata": {},
     "output_type": "execute_result"
    }
   ],
   "source": [
    "df['Marital_Status'].unique()"
   ]
  },
  {
   "cell_type": "code",
   "execution_count": 93,
   "id": "fa69ad84",
   "metadata": {},
   "outputs": [
    {
     "data": {
      "text/plain": [
       "array(['Unmarried', 'Married'], dtype=object)"
      ]
     },
     "execution_count": 93,
     "metadata": {},
     "output_type": "execute_result"
    }
   ],
   "source": [
    "# Creating a new text column for marital status\n",
    "df['Marital_Status_Name'] = df['Marital_Status'].apply(lambda x: 'Married' if(x ==  1.) else 'Unmarried')\n",
    "df['Marital_Status_Name'].unique()"
   ]
  },
  {
   "cell_type": "markdown",
   "id": "16ae1813",
   "metadata": {},
   "source": [
    "#### Age"
   ]
  },
  {
   "cell_type": "code",
   "execution_count": 94,
   "id": "592cb607",
   "metadata": {},
   "outputs": [],
   "source": [
    "# Converting datatype from object to numeric. \n",
    "# errors = 'coerce' will convert non-numeric values to NaN\n",
    "df['Age'] = pd.to_numeric(df['Age'], errors = 'coerce')\n"
   ]
  },
  {
   "cell_type": "code",
   "execution_count": 95,
   "id": "d1e7064d",
   "metadata": {},
   "outputs": [
    {
     "data": {
      "text/plain": [
       "0"
      ]
     },
     "execution_count": 95,
     "metadata": {},
     "output_type": "execute_result"
    }
   ],
   "source": [
    "# Replacing null values with mode\n",
    "age_mode = df['Age'].mode()[0]\n",
    "df['Age'] = df['Age'].fillna(age_mode)\n",
    "df['Age'].isnull().sum()"
   ]
  },
  {
   "cell_type": "markdown",
   "id": "af1923fb",
   "metadata": {},
   "source": [
    "#### Age Group"
   ]
  },
  {
   "cell_type": "code",
   "execution_count": 107,
   "id": "dafab783",
   "metadata": {},
   "outputs": [
    {
     "data": {
      "text/plain": [
       "0"
      ]
     },
     "execution_count": 107,
     "metadata": {},
     "output_type": "execute_result"
    }
   ],
   "source": [
    "# Replacing null values and ''low-high'' with mode\n",
    "age_group_mode = df['Age Group'].mode()[0]\n",
    "df['Age Group'] = df['Age Group'].fillna(age_group_mode)\n",
    "df['Age Group'] = df['Age Group'].str.replace('low-high', age_group_mode)\n",
    "df['Age Group'].isna().sum()\n"
   ]
  },
  {
   "cell_type": "markdown",
   "id": "4677a721",
   "metadata": {},
   "source": [
    "#### Gender, Occupation, Product_Category"
   ]
  },
  {
   "cell_type": "code",
   "execution_count": 103,
   "id": "e334a873",
   "metadata": {},
   "outputs": [],
   "source": [
    "# Replacing null values with mode\n",
    "\n",
    "# Gender\n",
    "gender_mode = df['Gender'].mode()[0]\n",
    "df['Gender'] = df['Gender'].fillna(gender_mode)\n",
    "\n",
    "#Occupation\n",
    "occupation_mode = df['Occupation'].mode()[0]\n",
    "df['Occupation'] = df['Occupation'].fillna(occupation_mode)\n",
    "\n",
    "# Product_Category\n",
    "product_category_mode = df['Product_Category'].mode()[0]\n",
    "df['Product_Category'] = df['Product_Category'].fillna(product_category_mode)"
   ]
  },
  {
   "cell_type": "markdown",
   "id": "29dcfd55",
   "metadata": {},
   "source": [
    "#### User_ID"
   ]
  },
  {
   "cell_type": "code",
   "execution_count": 104,
   "id": "3da0fec9",
   "metadata": {},
   "outputs": [],
   "source": [
    "# Filling with mode\n",
    "user_id_mode = df['User_ID'].mode()[0]\n",
    "df['User_ID'] = df['User_ID'].fillna(user_id_mode)"
   ]
  },
  {
   "cell_type": "code",
   "execution_count": 111,
   "id": "6262b962",
   "metadata": {},
   "outputs": [
    {
     "name": "stdout",
     "output_type": "stream",
     "text": [
      "<class 'pandas.core.frame.DataFrame'>\n",
      "Int64Index: 11262 entries, 0 to 11340\n",
      "Data columns (total 14 columns):\n",
      " #   Column               Non-Null Count  Dtype  \n",
      "---  ------               --------------  -----  \n",
      " 0   User_ID              11262 non-null  float64\n",
      " 1   Cust_name            11262 non-null  object \n",
      " 2   Product_ID           11262 non-null  object \n",
      " 3   Gender               11262 non-null  object \n",
      " 4   Age Group            11262 non-null  object \n",
      " 5   Age                  11262 non-null  float64\n",
      " 6   Marital_Status       11262 non-null  float64\n",
      " 7   State                11262 non-null  object \n",
      " 8   Zone                 11262 non-null  object \n",
      " 9   Occupation           11262 non-null  object \n",
      " 10  Product_Category     11262 non-null  object \n",
      " 11  Orders               11262 non-null  float64\n",
      " 12  Amount               11262 non-null  float64\n",
      " 13  Marital_Status_Name  11262 non-null  object \n",
      "dtypes: float64(5), object(9)\n",
      "memory usage: 1.3+ MB\n"
     ]
    }
   ],
   "source": [
    "# Cleaned data\n",
    "df.info()"
   ]
  },
  {
   "cell_type": "markdown",
   "id": "d65875f5",
   "metadata": {},
   "source": [
    " "
   ]
  },
  {
   "cell_type": "code",
   "execution_count": 106,
   "id": "8d1d65e5",
   "metadata": {},
   "outputs": [
    {
     "data": {
      "text/plain": [
       "User_ID                0\n",
       "Cust_name              0\n",
       "Product_ID             0\n",
       "Gender                 0\n",
       "Age Group              0\n",
       "Age                    0\n",
       "Marital_Status         0\n",
       "State                  0\n",
       "Zone                   0\n",
       "Occupation             0\n",
       "Product_Category       0\n",
       "Orders                 0\n",
       "Amount                 0\n",
       "Marital_Status_Name    0\n",
       "dtype: int64"
      ]
     },
     "execution_count": 106,
     "metadata": {},
     "output_type": "execute_result"
    }
   ],
   "source": [
    "df.isnull().sum()"
   ]
  },
  {
   "cell_type": "markdown",
   "id": "f8dbd634",
   "metadata": {},
   "source": [
    "### Statistical Analysis"
   ]
  },
  {
   "cell_type": "markdown",
   "id": "d1fe1084",
   "metadata": {},
   "source": [
    "### Outlier detection"
   ]
  },
  {
   "cell_type": "code",
   "execution_count": 50,
   "id": "916de452",
   "metadata": {},
   "outputs": [
    {
     "data": {
      "text/html": [
       "<div>\n",
       "<style scoped>\n",
       "    .dataframe tbody tr th:only-of-type {\n",
       "        vertical-align: middle;\n",
       "    }\n",
       "\n",
       "    .dataframe tbody tr th {\n",
       "        vertical-align: top;\n",
       "    }\n",
       "\n",
       "    .dataframe thead th {\n",
       "        text-align: right;\n",
       "    }\n",
       "</style>\n",
       "<table border=\"1\" class=\"dataframe\">\n",
       "  <thead>\n",
       "    <tr style=\"text-align: right;\">\n",
       "      <th></th>\n",
       "      <th>User_ID</th>\n",
       "      <th>Age</th>\n",
       "      <th>Marital_Status</th>\n",
       "      <th>Orders</th>\n",
       "      <th>Amount</th>\n",
       "    </tr>\n",
       "  </thead>\n",
       "  <tbody>\n",
       "    <tr>\n",
       "      <th>count</th>\n",
       "      <td>1.126200e+04</td>\n",
       "      <td>11262.000000</td>\n",
       "      <td>11262.000000</td>\n",
       "      <td>11262.000000</td>\n",
       "      <td>1.126200e+04</td>\n",
       "    </tr>\n",
       "    <tr>\n",
       "      <th>mean</th>\n",
       "      <td>1.013656e+06</td>\n",
       "      <td>35.421595</td>\n",
       "      <td>0.419730</td>\n",
       "      <td>2.494495</td>\n",
       "      <td>1.915489e+05</td>\n",
       "    </tr>\n",
       "    <tr>\n",
       "      <th>std</th>\n",
       "      <td>3.262528e+05</td>\n",
       "      <td>12.751490</td>\n",
       "      <td>0.493537</td>\n",
       "      <td>1.186879</td>\n",
       "      <td>1.072525e+07</td>\n",
       "    </tr>\n",
       "    <tr>\n",
       "      <th>min</th>\n",
       "      <td>1.000001e+06</td>\n",
       "      <td>12.000000</td>\n",
       "      <td>0.000000</td>\n",
       "      <td>1.000000</td>\n",
       "      <td>1.880000e+02</td>\n",
       "    </tr>\n",
       "    <tr>\n",
       "      <th>25%</th>\n",
       "      <td>1.001495e+06</td>\n",
       "      <td>27.000000</td>\n",
       "      <td>0.000000</td>\n",
       "      <td>2.000000</td>\n",
       "      <td>5.445000e+03</td>\n",
       "    </tr>\n",
       "    <tr>\n",
       "      <th>50%</th>\n",
       "      <td>1.003062e+06</td>\n",
       "      <td>33.000000</td>\n",
       "      <td>0.000000</td>\n",
       "      <td>2.000000</td>\n",
       "      <td>8.114500e+03</td>\n",
       "    </tr>\n",
       "    <tr>\n",
       "      <th>75%</th>\n",
       "      <td>1.004430e+06</td>\n",
       "      <td>43.000000</td>\n",
       "      <td>1.000000</td>\n",
       "      <td>3.000000</td>\n",
       "      <td>1.270475e+04</td>\n",
       "    </tr>\n",
       "    <tr>\n",
       "      <th>max</th>\n",
       "      <td>1.100505e+07</td>\n",
       "      <td>92.000000</td>\n",
       "      <td>1.000000</td>\n",
       "      <td>40.000000</td>\n",
       "      <td>8.760212e+08</td>\n",
       "    </tr>\n",
       "  </tbody>\n",
       "</table>\n",
       "</div>"
      ],
      "text/plain": [
       "            User_ID           Age  Marital_Status        Orders        Amount\n",
       "count  1.126200e+04  11262.000000    11262.000000  11262.000000  1.126200e+04\n",
       "mean   1.013656e+06     35.421595        0.419730      2.494495  1.915489e+05\n",
       "std    3.262528e+05     12.751490        0.493537      1.186879  1.072525e+07\n",
       "min    1.000001e+06     12.000000        0.000000      1.000000  1.880000e+02\n",
       "25%    1.001495e+06     27.000000        0.000000      2.000000  5.445000e+03\n",
       "50%    1.003062e+06     33.000000        0.000000      2.000000  8.114500e+03\n",
       "75%    1.004430e+06     43.000000        1.000000      3.000000  1.270475e+04\n",
       "max    1.100505e+07     92.000000        1.000000     40.000000  8.760212e+08"
      ]
     },
     "execution_count": 50,
     "metadata": {},
     "output_type": "execute_result"
    }
   ],
   "source": [
    "df.describe()"
   ]
  },
  {
   "cell_type": "code",
   "execution_count": 53,
   "id": "7ac68db0",
   "metadata": {},
   "outputs": [
    {
     "data": {
      "image/png": "[encoded data removed]",
      "text/plain": [
       "<Figure size 720x576 with 2 Axes>"
      ]
     },
     "metadata": {
      "needs_background": "light"
     },
     "output_type": "display_data"
    }
   ],
   "source": [
    "# Plotting the box plot for 'Orders and 'Amount' column\n",
    "fig,ax = plt.subplots(1,2,figsize = (10,8))\n",
    "sns.boxplot(data = df['Orders'], ax = ax[0])\n",
    "ax[0].set_title('Orders')\n",
    "sns.boxplot(data = df['Amount'], ax = ax[1])\n",
    "ax[1].set_title('Amount')\n",
    "plt.show()"
   ]
  },
  {
   "cell_type": "markdown",
   "id": "44915aa6",
   "metadata": {},
   "source": [
    "#### Removing outliers\n",
    "- Order column\n",
    "- Amount Column"
   ]
  },
  {
   "cell_type": "code",
   "execution_count": 112,
   "id": "78b98b1d",
   "metadata": {},
   "outputs": [
    {
     "name": "stdout",
     "output_type": "stream",
     "text": [
      "Lower Limit:  0.5\n",
      "Upper Limit:  4.5\n"
     ]
    }
   ],
   "source": [
    "# Removing outliers from 'Orders' column\n",
    "Q1 = df['Orders'].quantile(0.25)\n",
    "Q3 = df['Orders'].quantile(0.75)\n",
    "IQR = Q3 - Q1\n",
    "lower_limit_orders = Q1 - 1.5*IQR\n",
    "upper_limit_orders = Q3 + 1.5*IQR\n",
    "print(\"Lower Limit: \", lower_limit_orders)\n",
    "print(\"Upper Limit: \", upper_limit_orders)"
   ]
  },
  {
   "cell_type": "code",
   "execution_count": 113,
   "id": "4f9565e5",
   "metadata": {},
   "outputs": [
    {
     "data": {
      "text/plain": [
       "array([1., 3., 2., 4.])"
      ]
     },
     "execution_count": 113,
     "metadata": {},
     "output_type": "execute_result"
    }
   ],
   "source": [
    "# Filtering out the null values\n",
    "df = df[(df['Orders'] > lower_limit_orders) & (df['Orders'] < upper_limit_orders)]\n",
    "df['Orders'].unique()"
   ]
  },
  {
   "cell_type": "code",
   "execution_count": 114,
   "id": "f9a6854e",
   "metadata": {},
   "outputs": [
    {
     "name": "stdout",
     "output_type": "stream",
     "text": [
      "lower Limits:  23590.625\n",
      "upper limits:  -5442.375\n"
     ]
    }
   ],
   "source": [
    "# Removing outliers from 'Amount' column\n",
    "q1 = df['Amount'].quantile(0.25)\n",
    "q3 = df['Amount'].quantile(0.75)\n",
    "iqr = q3 - q1\n",
    "upper_limit_amount = q3 + 1.5*iqr\n",
    "lower_limit_amount = q1 - 1.5*iqr\n",
    "print(\"lower Limits: \", upper_limit_amount)\n",
    "print(\"upper limits: \", lower_limit_amount)"
   ]
  },
  {
   "cell_type": "code",
   "execution_count": 115,
   "id": "398208e0",
   "metadata": {},
   "outputs": [
    {
     "data": {
      "text/plain": [
       "array([23568., 23546., 23525., ...,   213.,   206.,   188.])"
      ]
     },
     "execution_count": 115,
     "metadata": {},
     "output_type": "execute_result"
    }
   ],
   "source": [
    "# Filtering out the null values\n",
    "df = df[df['Amount'] < upper_limit_amount]\n",
    "df['Amount'].unique()"
   ]
  },
  {
   "cell_type": "code",
   "execution_count": 116,
   "id": "7768e6d0",
   "metadata": {},
   "outputs": [
    {
     "data": {
      "text/html": [
       "<div>\n",
       "<style scoped>\n",
       "    .dataframe tbody tr th:only-of-type {\n",
       "        vertical-align: middle;\n",
       "    }\n",
       "\n",
       "    .dataframe tbody tr th {\n",
       "        vertical-align: top;\n",
       "    }\n",
       "\n",
       "    .dataframe thead th {\n",
       "        text-align: right;\n",
       "    }\n",
       "</style>\n",
       "<table border=\"1\" class=\"dataframe\">\n",
       "  <thead>\n",
       "    <tr style=\"text-align: right;\">\n",
       "      <th></th>\n",
       "      <th>User_ID</th>\n",
       "      <th>Age</th>\n",
       "      <th>Marital_Status</th>\n",
       "      <th>Orders</th>\n",
       "      <th>Amount</th>\n",
       "    </tr>\n",
       "  </thead>\n",
       "  <tbody>\n",
       "    <tr>\n",
       "      <th>count</th>\n",
       "      <td>1.124000e+04</td>\n",
       "      <td>11240.000000</td>\n",
       "      <td>11240.000000</td>\n",
       "      <td>11240.000000</td>\n",
       "      <td>11240.000000</td>\n",
       "    </tr>\n",
       "    <tr>\n",
       "      <th>mean</th>\n",
       "      <td>1.007450e+06</td>\n",
       "      <td>35.432473</td>\n",
       "      <td>0.419662</td>\n",
       "      <td>2.489769</td>\n",
       "      <td>9458.901819</td>\n",
       "    </tr>\n",
       "    <tr>\n",
       "      <th>std</th>\n",
       "      <td>2.108463e+05</td>\n",
       "      <td>12.758235</td>\n",
       "      <td>0.493526</td>\n",
       "      <td>1.114849</td>\n",
       "      <td>5219.153759</td>\n",
       "    </tr>\n",
       "    <tr>\n",
       "      <th>min</th>\n",
       "      <td>1.000001e+06</td>\n",
       "      <td>12.000000</td>\n",
       "      <td>0.000000</td>\n",
       "      <td>1.000000</td>\n",
       "      <td>188.000000</td>\n",
       "    </tr>\n",
       "    <tr>\n",
       "      <th>25%</th>\n",
       "      <td>1.001496e+06</td>\n",
       "      <td>27.000000</td>\n",
       "      <td>0.000000</td>\n",
       "      <td>2.000000</td>\n",
       "      <td>5443.750000</td>\n",
       "    </tr>\n",
       "    <tr>\n",
       "      <th>50%</th>\n",
       "      <td>1.003062e+06</td>\n",
       "      <td>33.000000</td>\n",
       "      <td>0.000000</td>\n",
       "      <td>2.000000</td>\n",
       "      <td>8110.000000</td>\n",
       "    </tr>\n",
       "    <tr>\n",
       "      <th>75%</th>\n",
       "      <td>1.004428e+06</td>\n",
       "      <td>43.000000</td>\n",
       "      <td>1.000000</td>\n",
       "      <td>3.000000</td>\n",
       "      <td>12691.000000</td>\n",
       "    </tr>\n",
       "    <tr>\n",
       "      <th>max</th>\n",
       "      <td>1.100173e+07</td>\n",
       "      <td>92.000000</td>\n",
       "      <td>1.000000</td>\n",
       "      <td>4.000000</td>\n",
       "      <td>23568.000000</td>\n",
       "    </tr>\n",
       "  </tbody>\n",
       "</table>\n",
       "</div>"
      ],
      "text/plain": [
       "            User_ID           Age  Marital_Status        Orders        Amount\n",
       "count  1.124000e+04  11240.000000    11240.000000  11240.000000  11240.000000\n",
       "mean   1.007450e+06     35.432473        0.419662      2.489769   9458.901819\n",
       "std    2.108463e+05     12.758235        0.493526      1.114849   5219.153759\n",
       "min    1.000001e+06     12.000000        0.000000      1.000000    188.000000\n",
       "25%    1.001496e+06     27.000000        0.000000      2.000000   5443.750000\n",
       "50%    1.003062e+06     33.000000        0.000000      2.000000   8110.000000\n",
       "75%    1.004428e+06     43.000000        1.000000      3.000000  12691.000000\n",
       "max    1.100173e+07     92.000000        1.000000      4.000000  23568.000000"
      ]
     },
     "execution_count": 116,
     "metadata": {},
     "output_type": "execute_result"
    }
   ],
   "source": [
    "# Cleaned data statistics\n",
    "df.describe()"
   ]
  },
  {
   "cell_type": "markdown",
   "id": "16e67a80",
   "metadata": {},
   "source": [
    " "
   ]
  },
  {
   "cell_type": "markdown",
   "id": "3a7ff856",
   "metadata": {},
   "source": [
    "#### Cleaned dataset"
   ]
  },
  {
   "cell_type": "code",
   "execution_count": 118,
   "id": "03c37a0f",
   "metadata": {},
   "outputs": [],
   "source": [
    "# Saving the cleaned data\n",
    "df.to_csv(\"B:\\Summer_Training_2024\\Diwali_Sales_Analysis\\data_cleaned.csv\", index = False)"
   ]
  },
  {
   "cell_type": "markdown",
   "id": "b9750f1a",
   "metadata": {},
   "source": [
    "## Exploratory Data Analysis"
   ]
  },
  {
   "cell_type": "code",
   "execution_count": 480,
   "id": "634f302b",
   "metadata": {},
   "outputs": [
    {
     "data": {
      "text/html": [
       "<div>\n",
       "<style scoped>\n",
       "    .dataframe tbody tr th:only-of-type {\n",
       "        vertical-align: middle;\n",
       "    }\n",
       "\n",
       "    .dataframe tbody tr th {\n",
       "        vertical-align: top;\n",
       "    }\n",
       "\n",
       "    .dataframe thead th {\n",
       "        text-align: right;\n",
       "    }\n",
       "</style>\n",
       "<table border=\"1\" class=\"dataframe\">\n",
       "  <thead>\n",
       "    <tr style=\"text-align: right;\">\n",
       "      <th></th>\n",
       "      <th>User_ID</th>\n",
       "      <th>Age</th>\n",
       "      <th>Marital_Status</th>\n",
       "      <th>Orders</th>\n",
       "      <th>Amount</th>\n",
       "    </tr>\n",
       "  </thead>\n",
       "  <tbody>\n",
       "    <tr>\n",
       "      <th>count</th>\n",
       "      <td>1.128000e+04</td>\n",
       "      <td>11280.000000</td>\n",
       "      <td>11280.000000</td>\n",
       "      <td>11280.000000</td>\n",
       "      <td>11280.000000</td>\n",
       "    </tr>\n",
       "    <tr>\n",
       "      <th>mean</th>\n",
       "      <td>1.007434e+06</td>\n",
       "      <td>35.440780</td>\n",
       "      <td>0.419326</td>\n",
       "      <td>2.489716</td>\n",
       "      <td>9490.257614</td>\n",
       "    </tr>\n",
       "    <tr>\n",
       "      <th>std</th>\n",
       "      <td>2.104723e+05</td>\n",
       "      <td>12.747809</td>\n",
       "      <td>0.493471</td>\n",
       "      <td>1.115337</td>\n",
       "      <td>5246.435652</td>\n",
       "    </tr>\n",
       "    <tr>\n",
       "      <th>min</th>\n",
       "      <td>1.000001e+06</td>\n",
       "      <td>12.000000</td>\n",
       "      <td>0.000000</td>\n",
       "      <td>1.000000</td>\n",
       "      <td>188.000000</td>\n",
       "    </tr>\n",
       "    <tr>\n",
       "      <th>25%</th>\n",
       "      <td>1.001495e+06</td>\n",
       "      <td>27.000000</td>\n",
       "      <td>0.000000</td>\n",
       "      <td>1.750000</td>\n",
       "      <td>5445.750000</td>\n",
       "    </tr>\n",
       "    <tr>\n",
       "      <th>50%</th>\n",
       "      <td>1.003062e+06</td>\n",
       "      <td>33.000000</td>\n",
       "      <td>0.000000</td>\n",
       "      <td>2.000000</td>\n",
       "      <td>8116.000000</td>\n",
       "    </tr>\n",
       "    <tr>\n",
       "      <th>75%</th>\n",
       "      <td>1.004426e+06</td>\n",
       "      <td>43.000000</td>\n",
       "      <td>1.000000</td>\n",
       "      <td>3.000000</td>\n",
       "      <td>12712.250000</td>\n",
       "    </tr>\n",
       "    <tr>\n",
       "      <th>max</th>\n",
       "      <td>1.100173e+07</td>\n",
       "      <td>92.000000</td>\n",
       "      <td>1.000000</td>\n",
       "      <td>4.000000</td>\n",
       "      <td>23619.000000</td>\n",
       "    </tr>\n",
       "  </tbody>\n",
       "</table>\n",
       "</div>"
      ],
      "text/plain": [
       "            User_ID           Age  Marital_Status        Orders        Amount\n",
       "count  1.128000e+04  11280.000000    11280.000000  11280.000000  11280.000000\n",
       "mean   1.007434e+06     35.440780        0.419326      2.489716   9490.257614\n",
       "std    2.104723e+05     12.747809        0.493471      1.115337   5246.435652\n",
       "min    1.000001e+06     12.000000        0.000000      1.000000    188.000000\n",
       "25%    1.001495e+06     27.000000        0.000000      1.750000   5445.750000\n",
       "50%    1.003062e+06     33.000000        0.000000      2.000000   8116.000000\n",
       "75%    1.004426e+06     43.000000        1.000000      3.000000  12712.250000\n",
       "max    1.100173e+07     92.000000        1.000000      4.000000  23619.000000"
      ]
     },
     "execution_count": 480,
     "metadata": {},
     "output_type": "execute_result"
    }
   ],
   "source": [
    "df.describe()"
   ]
  },
  {
   "cell_type": "markdown",
   "id": "193b9efb",
   "metadata": {},
   "source": [
    "#### Gender Wise Analysis"
   ]
  },
  {
   "cell_type": "code",
   "execution_count": 369,
   "id": "d04f8fa8",
   "metadata": {},
   "outputs": [
    {
     "name": "stdout",
     "output_type": "stream",
     "text": [
      "Order Count \n",
      "   Gender  Orders\n",
      "0      F    7840\n",
      "1      M    3400\n",
      "\n",
      "Purchase Power \n",
      "   Gender       Amount\n",
      "0      F  74527740.44\n",
      "1      M  31790316.00\n"
     ]
    }
   ],
   "source": [
    "# Male-Female Order data\n",
    "gender_data_order = df.groupby(['Gender'], as_index = False)['Orders'].count()\n",
    "print(\"Order Count \\n\", gender_data_order)\n",
    "print()\n",
    "\n",
    "gender_data_amount = df.groupby(['Gender'], as_index = False)['Amount'].sum()\n",
    "print(\"Purchase Power \\n\", gender_data_amount)"
   ]
  },
  {
   "cell_type": "code",
   "execution_count": 407,
   "id": "538647ec",
   "metadata": {},
   "outputs": [
    {
     "data": {
      "image/png": "[encoded data removed]",
      "text/plain": [
       "<Figure size 1080x360 with 2 Axes>"
      ]
     },
     "metadata": {
      "needs_background": "light"
     },
     "output_type": "display_data"
    }
   ],
   "source": [
    "fig, ax = plt.subplots(1,2, figsize = (15,5))\n",
    "\n",
    "# Plotting pie chart\n",
    "ax[0].pie(x = gender_data_order['Orders'],labels = gender_data_order['Gender'],autopct = \"%1.2f%%\")\n",
    "ax[0].set_title(\"Male vs Female Order Count\")\n",
    "\n",
    "# Plotting a bar chart on amount sum\n",
    "sns.barplot(x = 'Gender', y = 'Amount', data = gender_data_amount, ax = ax[1])\n",
    "plt.title(\"Male Vs Female Purchase Power\")\n",
    "\n",
    "\n",
    "plt.show()"
   ]
  },
  {
   "cell_type": "markdown",
   "id": "ee57c9e7",
   "metadata": {},
   "source": [
    "#### Conclusion:\n",
    "Female orders more and also they have more purchase power"
   ]
  },
  {
   "cell_type": "markdown",
   "id": "5820cca9",
   "metadata": {},
   "source": [
    " "
   ]
  },
  {
   "cell_type": "markdown",
   "id": "34c04dbb",
   "metadata": {},
   "source": [
    "#### Married Vs Unmarried"
   ]
  },
  {
   "cell_type": "code",
   "execution_count": 408,
   "id": "d5838c3c",
   "metadata": {},
   "outputs": [
    {
     "data": {
      "text/html": [
       "<div>\n",
       "<style scoped>\n",
       "    .dataframe tbody tr th:only-of-type {\n",
       "        vertical-align: middle;\n",
       "    }\n",
       "\n",
       "    .dataframe tbody tr th {\n",
       "        vertical-align: top;\n",
       "    }\n",
       "\n",
       "    .dataframe thead th {\n",
       "        text-align: right;\n",
       "    }\n",
       "</style>\n",
       "<table border=\"1\" class=\"dataframe\">\n",
       "  <thead>\n",
       "    <tr style=\"text-align: right;\">\n",
       "      <th></th>\n",
       "      <th>Marital_Status_Name</th>\n",
       "      <th>Amount</th>\n",
       "    </tr>\n",
       "  </thead>\n",
       "  <tbody>\n",
       "    <tr>\n",
       "      <th>0</th>\n",
       "      <td>Married</td>\n",
       "      <td>44045838.00</td>\n",
       "    </tr>\n",
       "    <tr>\n",
       "      <th>1</th>\n",
       "      <td>Unmarried</td>\n",
       "      <td>62272218.44</td>\n",
       "    </tr>\n",
       "  </tbody>\n",
       "</table>\n",
       "</div>"
      ],
      "text/plain": [
       "  Marital_Status_Name       Amount\n",
       "0             Married  44045838.00\n",
       "1           Unmarried  62272218.44"
      ]
     },
     "execution_count": 408,
     "metadata": {},
     "output_type": "execute_result"
    }
   ],
   "source": [
    "# Plot Data\n",
    "amount_marital_status = df.groupby(['Marital_Status_Name'], as_index = False)['Amount'].sum()\n",
    "amount_marital_status"
   ]
  },
  {
   "cell_type": "code",
   "execution_count": 412,
   "id": "bb86018c",
   "metadata": {},
   "outputs": [
    {
     "data": {
      "image/png": "[encoded data removed]",
      "text/plain": [
       "<Figure size 1080x432 with 2 Axes>"
      ]
     },
     "metadata": {
      "needs_background": "light"
     },
     "output_type": "display_data"
    }
   ],
   "source": [
    "# Plots\n",
    "fig, ax = plt.subplots(1,2, figsize = (15,6))\n",
    "\n",
    "# Plotting order count\n",
    "sns.countplot(x = 'Marital_Status_Name', hue = 'Gender',data = df, ax = ax[0])\n",
    "\n",
    "# Plotting Amount Sum\n",
    "sns.barplot(y = 'Marital_Status_Name', x = 'Amount', data = amount_marital_status, orient = 'h', ax = ax[1])\n",
    "\n",
    "ax[0].set_title(\"Order_Count - Marital Status\")\n",
    "ax[1].set_title(\"Purchase Power - Marital Status\")\n",
    "plt.show()\n"
   ]
  },
  {
   "cell_type": "markdown",
   "id": "48a2783c",
   "metadata": {},
   "source": [
    "#### Conclusion:\n",
    "Unmarried female makes more order, then married female and then unmarried male."
   ]
  },
  {
   "cell_type": "markdown",
   "id": "cca28b86",
   "metadata": {},
   "source": [
    "### Analysis based on age group"
   ]
  },
  {
   "cell_type": "code",
   "execution_count": 414,
   "id": "637f6df5",
   "metadata": {},
   "outputs": [
    {
     "data": {
      "text/html": [
       "<div>\n",
       "<style scoped>\n",
       "    .dataframe tbody tr th:only-of-type {\n",
       "        vertical-align: middle;\n",
       "    }\n",
       "\n",
       "    .dataframe tbody tr th {\n",
       "        vertical-align: top;\n",
       "    }\n",
       "\n",
       "    .dataframe thead th {\n",
       "        text-align: right;\n",
       "    }\n",
       "</style>\n",
       "<table border=\"1\" class=\"dataframe\">\n",
       "  <thead>\n",
       "    <tr style=\"text-align: right;\">\n",
       "      <th></th>\n",
       "      <th>Age Group</th>\n",
       "      <th>Amount</th>\n",
       "    </tr>\n",
       "  </thead>\n",
       "  <tbody>\n",
       "    <tr>\n",
       "      <th>0</th>\n",
       "      <td>0-17</td>\n",
       "      <td>2696529.00</td>\n",
       "    </tr>\n",
       "    <tr>\n",
       "      <th>1</th>\n",
       "      <td>18-25</td>\n",
       "      <td>17074093.00</td>\n",
       "    </tr>\n",
       "    <tr>\n",
       "      <th>2</th>\n",
       "      <td>26-35</td>\n",
       "      <td>42645699.95</td>\n",
       "    </tr>\n",
       "    <tr>\n",
       "      <th>3</th>\n",
       "      <td>36-45</td>\n",
       "      <td>22276229.49</td>\n",
       "    </tr>\n",
       "    <tr>\n",
       "      <th>4</th>\n",
       "      <td>46-50</td>\n",
       "      <td>9245595.00</td>\n",
       "    </tr>\n",
       "    <tr>\n",
       "      <th>5</th>\n",
       "      <td>51-55</td>\n",
       "      <td>8278320.00</td>\n",
       "    </tr>\n",
       "    <tr>\n",
       "      <th>6</th>\n",
       "      <td>55+</td>\n",
       "      <td>4101590.00</td>\n",
       "    </tr>\n",
       "  </tbody>\n",
       "</table>\n",
       "</div>"
      ],
      "text/plain": [
       "  Age Group       Amount\n",
       "0      0-17   2696529.00\n",
       "1     18-25  17074093.00\n",
       "2     26-35  42645699.95\n",
       "3     36-45  22276229.49\n",
       "4     46-50   9245595.00\n",
       "5     51-55   8278320.00\n",
       "6       55+   4101590.00"
      ]
     },
     "execution_count": 414,
     "metadata": {},
     "output_type": "execute_result"
    }
   ],
   "source": [
    "# Plot data\n",
    "amount_age_group = df.groupby(['Age Group'],as_index = False)['Amount'].sum()\n",
    "amount_age_group"
   ]
  },
  {
   "cell_type": "code",
   "execution_count": 415,
   "id": "ff4e6f9d",
   "metadata": {},
   "outputs": [
    {
     "data": {
      "image/png": "[encoded data removed]",
      "text/plain": [
       "<Figure size 1440x432 with 2 Axes>"
      ]
     },
     "metadata": {
      "needs_background": "light"
     },
     "output_type": "display_data"
    }
   ],
   "source": [
    "# Plots\n",
    "fig, ax = plt.subplots(1,2, figsize = (20,6))\n",
    "\n",
    "# Plotting order count\n",
    "sns.countplot(x = 'Age Group', hue = 'Gender',data = df, ax = ax[0])\n",
    "\n",
    "# Plotting Amount Sum\n",
    "sns.barplot(y = 'Age Group', x = 'Amount', data = amount_age_group, orient = 'h', ax = ax[1])\n",
    "\n",
    "ax[0].set_title(\"Order_Count - Age Group\")\n",
    "ax[1].set_title(\"Purchase Power - Age Group\")\n",
    "plt.show()\n"
   ]
  },
  {
   "cell_type": "markdown",
   "id": "2c67fb4a",
   "metadata": {},
   "source": [
    "#### Conclusion:\n",
    "Maximum number of orders come from the age group 26-35"
   ]
  },
  {
   "cell_type": "markdown",
   "id": "d2b3ec6b",
   "metadata": {},
   "source": [
    "### State Wise Analysis"
   ]
  },
  {
   "cell_type": "code",
   "execution_count": 432,
   "id": "0b4223ad",
   "metadata": {},
   "outputs": [
    {
     "data": {
      "text/html": [
       "<div>\n",
       "<style scoped>\n",
       "    .dataframe tbody tr th:only-of-type {\n",
       "        vertical-align: middle;\n",
       "    }\n",
       "\n",
       "    .dataframe tbody tr th {\n",
       "        vertical-align: top;\n",
       "    }\n",
       "\n",
       "    .dataframe thead th {\n",
       "        text-align: right;\n",
       "    }\n",
       "</style>\n",
       "<table border=\"1\" class=\"dataframe\">\n",
       "  <thead>\n",
       "    <tr style=\"text-align: right;\">\n",
       "      <th></th>\n",
       "      <th>State</th>\n",
       "      <th>Amount</th>\n",
       "    </tr>\n",
       "  </thead>\n",
       "  <tbody>\n",
       "    <tr>\n",
       "      <th>14</th>\n",
       "      <td>Uttar Pradesh</td>\n",
       "      <td>19360148.00</td>\n",
       "    </tr>\n",
       "    <tr>\n",
       "      <th>10</th>\n",
       "      <td>Maharashtra</td>\n",
       "      <td>14421711.00</td>\n",
       "    </tr>\n",
       "    <tr>\n",
       "      <th>7</th>\n",
       "      <td>Karnataka</td>\n",
       "      <td>13705829.00</td>\n",
       "    </tr>\n",
       "    <tr>\n",
       "      <th>2</th>\n",
       "      <td>Delhi</td>\n",
       "      <td>11638138.45</td>\n",
       "    </tr>\n",
       "    <tr>\n",
       "      <th>9</th>\n",
       "      <td>Madhya Pradesh</td>\n",
       "      <td>8121899.00</td>\n",
       "    </tr>\n",
       "  </tbody>\n",
       "</table>\n",
       "</div>"
      ],
      "text/plain": [
       "             State       Amount\n",
       "14   Uttar Pradesh  19360148.00\n",
       "10     Maharashtra  14421711.00\n",
       "7        Karnataka  13705829.00\n",
       "2            Delhi  11638138.45\n",
       "9   Madhya Pradesh   8121899.00"
      ]
     },
     "execution_count": 432,
     "metadata": {},
     "output_type": "execute_result"
    }
   ],
   "source": [
    "# Plot data for top 5 states\n",
    "amount_state = df.groupby(['State'],as_index = False)['Amount'].sum().sort_values(by = 'Amount', ascending = False)[:5]\n",
    "amount_state"
   ]
  },
  {
   "cell_type": "code",
   "execution_count": 433,
   "id": "8b357bb4",
   "metadata": {},
   "outputs": [
    {
     "data": {
      "image/png": "[encoded data removed]",
      "text/plain": [
       "<Figure size 1440x432 with 2 Axes>"
      ]
     },
     "metadata": {
      "needs_background": "light"
     },
     "output_type": "display_data"
    }
   ],
   "source": [
    "# Plots\n",
    "fig, ax = plt.subplots(1,2, figsize = (20,6))\n",
    "\n",
    "# Plotting order count vs State\n",
    "sns.countplot(x = 'State', data = df, order = df['State'].value_counts().nlargest(5).index, ax = ax[0])\n",
    "\n",
    "# Plotting Amount Sum Vs State\n",
    "sns.barplot(y = 'State', x = 'Amount', data = amount_state, orient = 'h', ax = ax[1])\n",
    "\n",
    "ax[0].set_title(\"Order_Count - Top 5 States\")\n",
    "ax[1].set_title(\"Purchase Power - Top 5 States\")\n",
    "plt.show()"
   ]
  },
  {
   "cell_type": "markdown",
   "id": "18de0804",
   "metadata": {},
   "source": [
    "#### Conclusion:\n",
    "The top performing states are: Uttar Pradesh, Maharashtra, Karnataka"
   ]
  },
  {
   "cell_type": "markdown",
   "id": "494ab0f3",
   "metadata": {},
   "source": [
    "### Occupation Wise Analysis"
   ]
  },
  {
   "cell_type": "code",
   "execution_count": 437,
   "id": "d7ecc10b",
   "metadata": {},
   "outputs": [
    {
     "data": {
      "text/html": [
       "<div>\n",
       "<style scoped>\n",
       "    .dataframe tbody tr th:only-of-type {\n",
       "        vertical-align: middle;\n",
       "    }\n",
       "\n",
       "    .dataframe tbody tr th {\n",
       "        vertical-align: top;\n",
       "    }\n",
       "\n",
       "    .dataframe thead th {\n",
       "        text-align: right;\n",
       "    }\n",
       "</style>\n",
       "<table border=\"1\" class=\"dataframe\">\n",
       "  <thead>\n",
       "    <tr style=\"text-align: right;\">\n",
       "      <th></th>\n",
       "      <th>Occupation</th>\n",
       "      <th>Amount</th>\n",
       "    </tr>\n",
       "  </thead>\n",
       "  <tbody>\n",
       "    <tr>\n",
       "      <th>10</th>\n",
       "      <td>IT Sector</td>\n",
       "      <td>14902488.00</td>\n",
       "    </tr>\n",
       "    <tr>\n",
       "      <th>8</th>\n",
       "      <td>Healthcare</td>\n",
       "      <td>12989061.49</td>\n",
       "    </tr>\n",
       "    <tr>\n",
       "      <th>2</th>\n",
       "      <td>Aviation</td>\n",
       "      <td>12638645.00</td>\n",
       "    </tr>\n",
       "    <tr>\n",
       "      <th>3</th>\n",
       "      <td>Banking</td>\n",
       "      <td>10788250.95</td>\n",
       "    </tr>\n",
       "    <tr>\n",
       "      <th>7</th>\n",
       "      <td>Govt</td>\n",
       "      <td>8425182.00</td>\n",
       "    </tr>\n",
       "  </tbody>\n",
       "</table>\n",
       "</div>"
      ],
      "text/plain": [
       "    Occupation       Amount\n",
       "10   IT Sector  14902488.00\n",
       "8   Healthcare  12989061.49\n",
       "2     Aviation  12638645.00\n",
       "3      Banking  10788250.95\n",
       "7         Govt   8425182.00"
      ]
     },
     "execution_count": 437,
     "metadata": {},
     "output_type": "execute_result"
    }
   ],
   "source": [
    "# Sale Data for people placing order from top 5 occupations\n",
    "amount_occupation = df.groupby(['Occupation'],as_index = False)['Amount'].sum().sort_values(by = 'Amount', ascending = False)[:5]\n",
    "amount_occupation"
   ]
  },
  {
   "cell_type": "code",
   "execution_count": 438,
   "id": "819b7ddc",
   "metadata": {},
   "outputs": [
    {
     "data": {
      "image/png": "[encoded data removed]",
      "text/plain": [
       "<Figure size 1440x432 with 2 Axes>"
      ]
     },
     "metadata": {
      "needs_background": "light"
     },
     "output_type": "display_data"
    }
   ],
   "source": [
    "# Plots\n",
    "fig, ax = plt.subplots(1,2, figsize = (20,6))\n",
    "\n",
    "# Plotting order count vs Occupation\n",
    "sns.countplot(x = 'Occupation', data = df, order = df['Occupation'].value_counts().nlargest(5).index, ax = ax[0])\n",
    "\n",
    "# Plotting Amount Sum Vs Occupation\n",
    "sns.barplot(y = 'Occupation', x = 'Amount', data = amount_occupation, orient = 'h', ax = ax[1])\n",
    "\n",
    "ax[0].set_title(\"Order_Count - Top 5 Occupation\")\n",
    "ax[1].set_title(\"Purchase Power - Top 5 Occupation\")\n",
    "plt.show()"
   ]
  },
  {
   "cell_type": "markdown",
   "id": "c76c6b11",
   "metadata": {},
   "source": [
    "#### Conclusion\n",
    "People placing larger quantity of orders are from IT Sector, Healthcare and Aviation"
   ]
  },
  {
   "cell_type": "markdown",
   "id": "050cdf1d",
   "metadata": {},
   "source": [
    "### Product Category Wise Analysis"
   ]
  },
  {
   "cell_type": "code",
   "execution_count": 443,
   "id": "d3832805",
   "metadata": {},
   "outputs": [
    {
     "data": {
      "text/html": [
       "<div>\n",
       "<style scoped>\n",
       "    .dataframe tbody tr th:only-of-type {\n",
       "        vertical-align: middle;\n",
       "    }\n",
       "\n",
       "    .dataframe tbody tr th {\n",
       "        vertical-align: top;\n",
       "    }\n",
       "\n",
       "    .dataframe thead th {\n",
       "        text-align: right;\n",
       "    }\n",
       "</style>\n",
       "<table border=\"1\" class=\"dataframe\">\n",
       "  <thead>\n",
       "    <tr style=\"text-align: right;\">\n",
       "      <th></th>\n",
       "      <th>Product_Category</th>\n",
       "      <th>Amount</th>\n",
       "    </tr>\n",
       "  </thead>\n",
       "  <tbody>\n",
       "    <tr>\n",
       "      <th>6</th>\n",
       "      <td>Food</td>\n",
       "      <td>33933883.50</td>\n",
       "    </tr>\n",
       "    <tr>\n",
       "      <th>3</th>\n",
       "      <td>Clothing &amp; Apparel</td>\n",
       "      <td>16610170.50</td>\n",
       "    </tr>\n",
       "    <tr>\n",
       "      <th>7</th>\n",
       "      <td>Footwear &amp; Shoes</td>\n",
       "      <td>16009057.45</td>\n",
       "    </tr>\n",
       "    <tr>\n",
       "      <th>5</th>\n",
       "      <td>Electronics &amp; Gadgets</td>\n",
       "      <td>15607657.00</td>\n",
       "    </tr>\n",
       "    <tr>\n",
       "      <th>8</th>\n",
       "      <td>Furniture</td>\n",
       "      <td>5481325.99</td>\n",
       "    </tr>\n",
       "  </tbody>\n",
       "</table>\n",
       "</div>"
      ],
      "text/plain": [
       "        Product_Category       Amount\n",
       "6                   Food  33933883.50\n",
       "3     Clothing & Apparel  16610170.50\n",
       "7       Footwear & Shoes  16009057.45\n",
       "5  Electronics & Gadgets  15607657.00\n",
       "8              Furniture   5481325.99"
      ]
     },
     "execution_count": 443,
     "metadata": {},
     "output_type": "execute_result"
    }
   ],
   "source": [
    "# Sale Data for top 5 performing categories\n",
    "amount_product_category = df.groupby(['Product_Category'],as_index = False)['Amount'].sum().sort_values(by = 'Amount', ascending = False)[:5]\n",
    "amount_product_category"
   ]
  },
  {
   "cell_type": "code",
   "execution_count": 446,
   "id": "9a3e9894",
   "metadata": {},
   "outputs": [
    {
     "data": {
      "image/png": "[encoded data removed]",
      "text/plain": [
       "<Figure size 1440x432 with 2 Axes>"
      ]
     },
     "metadata": {
      "needs_background": "light"
     },
     "output_type": "display_data"
    }
   ],
   "source": [
    "# Plots\n",
    "fig, ax = plt.subplots(1,2, figsize = (20,6))\n",
    "\n",
    "# Plotting order count vs Product Category\n",
    "sns.countplot(x = 'Product_Category', data = df, order = df['Product_Category'].value_counts().nlargest(5).index, ax = ax[0])\n",
    "\n",
    "# Plotting Amount Sum Vs Product Category\n",
    "sns.barplot(y = 'Product_Category', x = 'Amount', data = amount_product_category, orient = 'h', ax = ax[1])\n",
    "\n",
    "ax[0].set_title(\"Order_Count - Top 5 Product Category\")\n",
    "ax[1].set_title(\"Purchase Power - Top 5 Product Category\")\n",
    "plt.show()"
   ]
  },
  {
   "cell_type": "markdown",
   "id": "cb07dba1",
   "metadata": {},
   "source": [
    "#### Conclustion\n",
    "Top performing product categories are: Food, Clothing & Aparel, Footwear"
   ]
  },
  {
   "cell_type": "markdown",
   "id": "438c4cbf",
   "metadata": {},
   "source": [
    "### Product Wise Analysis"
   ]
  },
  {
   "cell_type": "code",
   "execution_count": 450,
   "id": "e1ccda4c",
   "metadata": {},
   "outputs": [
    {
     "data": {
      "text/html": [
       "<div>\n",
       "<style scoped>\n",
       "    .dataframe tbody tr th:only-of-type {\n",
       "        vertical-align: middle;\n",
       "    }\n",
       "\n",
       "    .dataframe tbody tr th {\n",
       "        vertical-align: top;\n",
       "    }\n",
       "\n",
       "    .dataframe thead th {\n",
       "        text-align: right;\n",
       "    }\n",
       "</style>\n",
       "<table border=\"1\" class=\"dataframe\">\n",
       "  <thead>\n",
       "    <tr style=\"text-align: right;\">\n",
       "      <th></th>\n",
       "      <th>Product_ID</th>\n",
       "      <th>Amount</th>\n",
       "    </tr>\n",
       "  </thead>\n",
       "  <tbody>\n",
       "    <tr>\n",
       "      <th>1678</th>\n",
       "      <td>P00265242</td>\n",
       "      <td>561461.0</td>\n",
       "    </tr>\n",
       "    <tr>\n",
       "      <th>1146</th>\n",
       "      <td>P00184942</td>\n",
       "      <td>401816.0</td>\n",
       "    </tr>\n",
       "    <tr>\n",
       "      <th>644</th>\n",
       "      <td>P00110942</td>\n",
       "      <td>400899.0</td>\n",
       "    </tr>\n",
       "    <tr>\n",
       "      <th>396</th>\n",
       "      <td>P00059442</td>\n",
       "      <td>359230.0</td>\n",
       "    </tr>\n",
       "    <tr>\n",
       "      <th>654</th>\n",
       "      <td>P00112142</td>\n",
       "      <td>341020.0</td>\n",
       "    </tr>\n",
       "    <tr>\n",
       "      <th>1503</th>\n",
       "      <td>P00237542</td>\n",
       "      <td>322363.0</td>\n",
       "    </tr>\n",
       "    <tr>\n",
       "      <th>388</th>\n",
       "      <td>P00058042</td>\n",
       "      <td>307040.0</td>\n",
       "    </tr>\n",
       "    <tr>\n",
       "      <th>642</th>\n",
       "      <td>P00110742</td>\n",
       "      <td>294548.0</td>\n",
       "    </tr>\n",
       "    <tr>\n",
       "      <th>643</th>\n",
       "      <td>P00110842</td>\n",
       "      <td>290661.0</td>\n",
       "    </tr>\n",
       "    <tr>\n",
       "      <th>313</th>\n",
       "      <td>P00046742</td>\n",
       "      <td>287643.0</td>\n",
       "    </tr>\n",
       "  </tbody>\n",
       "</table>\n",
       "</div>"
      ],
      "text/plain": [
       "     Product_ID    Amount\n",
       "1678  P00265242  561461.0\n",
       "1146  P00184942  401816.0\n",
       "644   P00110942  400899.0\n",
       "396   P00059442  359230.0\n",
       "654   P00112142  341020.0\n",
       "1503  P00237542  322363.0\n",
       "388   P00058042  307040.0\n",
       "642   P00110742  294548.0\n",
       "643   P00110842  290661.0\n",
       "313   P00046742  287643.0"
      ]
     },
     "execution_count": 450,
     "metadata": {},
     "output_type": "execute_result"
    }
   ],
   "source": [
    "# Sale Data for top 10 performing products\n",
    "amount_product = df.groupby(['Product_ID'],\n",
    "                            as_index = False)['Amount'].sum().sort_values(by = 'Amount', ascending = False)[:10]\n",
    "amount_product\n"
   ]
  },
  {
   "cell_type": "code",
   "execution_count": 451,
   "id": "76f910c9",
   "metadata": {},
   "outputs": [
    {
     "data": {
      "image/png": "[encoded data removed]",
      "text/plain": [
       "<Figure size 1440x432 with 2 Axes>"
      ]
     },
     "metadata": {
      "needs_background": "light"
     },
     "output_type": "display_data"
    }
   ],
   "source": [
    "# Plots\n",
    "fig, ax = plt.subplots(1,2, figsize = (20,6))\n",
    "\n",
    "# Plotting order count vs Top 10 Product \n",
    "sns.countplot(y = 'Product_ID', data = df, orient = 'h', \n",
    "              order = df['Product_ID'].value_counts().nlargest(10).index, ax = ax[0])\n",
    "\n",
    "# Plotting Amount Sum Vs Top 10 Product\n",
    "sns.barplot(y = 'Product_ID', x = 'Amount', data = amount_product, orient = 'h', ax = ax[1])\n",
    "\n",
    "ax[0].set_title(\"Order_Count - Top 10 Product\")\n",
    "ax[1].set_title(\"Purchase Power - Top 10 Product\")\n",
    "plt.show()"
   ]
  },
  {
   "cell_type": "code",
   "execution_count": null,
   "id": "0abc53d3",
   "metadata": {},
   "outputs": [],
   "source": []
  }
 ],
 "metadata": {
  "kernelspec": {
   "display_name": "Python 3 (ipykernel)",
   "language": "python",
   "name": "python3"
  },
  "language_info": {
   "codemirror_mode": {
    "name": "ipython",
    "version": 3
   },
   "file_extension": ".py",
   "mimetype": "text/x-python",
   "name": "python",
   "nbconvert_exporter": "python",
   "pygments_lexer": "ipython3",
   "version": "3.9.7"
  }
 },
 "nbformat": 4,
 "nbformat_minor": 5
}
